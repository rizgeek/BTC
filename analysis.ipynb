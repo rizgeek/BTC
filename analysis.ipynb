{
 "cells": [
  {
   "attachments": {},
   "cell_type": "markdown",
   "metadata": {},
   "source": [
    "# TUGAS UTS BIG DATA MANAGEMENT\n",
    "<ul>\n",
    "    <li>NAMA : Muhammad Rizki</li>\n",
    "    <li>NIM  : 6220211002</li>\n",
    "    <li>GITHUB : <a href=\"https://github.com/rizgeek/BTC\">rizgeek/BTC</a></li>\n",
    "    <li>SUMBER DATA :<a href=\"https://www.investing.com/crypto/bitcoin/btc-usd-historical-data\">investing.com</a> </li>\n",
    "</ul>\n"
   ]
  },
  {
   "cell_type": "code",
   "execution_count": 3,
   "metadata": {},
   "outputs": [],
   "source": [
    "# import package\n",
    "import pandas as pd\n",
    "import numpy as np\n",
    "import matplotlib.pyplot as plot\n",
    "from statsmodels.tsa.stattools import adfuller\n",
    "from statsmodels.tsa.arima.model import ARIMA, ARIMAResults\n",
    "import plotly.graph_objs as go"
   ]
  },
  {
   "cell_type": "code",
   "execution_count": 4,
   "metadata": {},
   "outputs": [
    {
     "data": {
      "text/html": [
       "<div>\n",
       "<style scoped>\n",
       "    .dataframe tbody tr th:only-of-type {\n",
       "        vertical-align: middle;\n",
       "    }\n",
       "\n",
       "    .dataframe tbody tr th {\n",
       "        vertical-align: top;\n",
       "    }\n",
       "\n",
       "    .dataframe thead th {\n",
       "        text-align: right;\n",
       "    }\n",
       "</style>\n",
       "<table border=\"1\" class=\"dataframe\">\n",
       "  <thead>\n",
       "    <tr style=\"text-align: right;\">\n",
       "      <th></th>\n",
       "      <th>Date</th>\n",
       "      <th>Price</th>\n",
       "      <th>Open</th>\n",
       "      <th>High</th>\n",
       "      <th>Low</th>\n",
       "      <th>Vol.</th>\n",
       "      <th>Change %</th>\n",
       "    </tr>\n",
       "  </thead>\n",
       "  <tbody>\n",
       "    <tr>\n",
       "      <th>0</th>\n",
       "      <td>Apr 26, 2023</td>\n",
       "      <td>29,723.2</td>\n",
       "      <td>28,298.8</td>\n",
       "      <td>29,995.7</td>\n",
       "      <td>28,258.5</td>\n",
       "      <td>119.37K</td>\n",
       "      <td>5.03%</td>\n",
       "    </tr>\n",
       "    <tr>\n",
       "      <th>1</th>\n",
       "      <td>Apr 25, 2023</td>\n",
       "      <td>28,298.8</td>\n",
       "      <td>27,510.1</td>\n",
       "      <td>28,375.6</td>\n",
       "      <td>27,201.1</td>\n",
       "      <td>65.31K</td>\n",
       "      <td>2.87%</td>\n",
       "    </tr>\n",
       "    <tr>\n",
       "      <th>2</th>\n",
       "      <td>Apr 24, 2023</td>\n",
       "      <td>27,509.3</td>\n",
       "      <td>27,591.4</td>\n",
       "      <td>27,978.8</td>\n",
       "      <td>27,054.3</td>\n",
       "      <td>66.74K</td>\n",
       "      <td>-0.30%</td>\n",
       "    </tr>\n",
       "    <tr>\n",
       "      <th>3</th>\n",
       "      <td>Apr 23, 2023</td>\n",
       "      <td>27,591.4</td>\n",
       "      <td>27,813.8</td>\n",
       "      <td>27,815.0</td>\n",
       "      <td>27,388.5</td>\n",
       "      <td>41.77K</td>\n",
       "      <td>-0.80%</td>\n",
       "    </tr>\n",
       "    <tr>\n",
       "      <th>4</th>\n",
       "      <td>Apr 22, 2023</td>\n",
       "      <td>27,813.9</td>\n",
       "      <td>27,264.8</td>\n",
       "      <td>27,872.0</td>\n",
       "      <td>27,165.7</td>\n",
       "      <td>44.30K</td>\n",
       "      <td>2.01%</td>\n",
       "    </tr>\n",
       "    <tr>\n",
       "      <th>...</th>\n",
       "      <td>...</td>\n",
       "      <td>...</td>\n",
       "      <td>...</td>\n",
       "      <td>...</td>\n",
       "      <td>...</td>\n",
       "      <td>...</td>\n",
       "      <td>...</td>\n",
       "    </tr>\n",
       "    <tr>\n",
       "      <th>4661</th>\n",
       "      <td>Jul 22, 2010</td>\n",
       "      <td>0.1</td>\n",
       "      <td>0.1</td>\n",
       "      <td>0.1</td>\n",
       "      <td>0.1</td>\n",
       "      <td>2.16K</td>\n",
       "      <td>0.00%</td>\n",
       "    </tr>\n",
       "    <tr>\n",
       "      <th>4662</th>\n",
       "      <td>Jul 21, 2010</td>\n",
       "      <td>0.1</td>\n",
       "      <td>0.1</td>\n",
       "      <td>0.1</td>\n",
       "      <td>0.1</td>\n",
       "      <td>0.58K</td>\n",
       "      <td>0.00%</td>\n",
       "    </tr>\n",
       "    <tr>\n",
       "      <th>4663</th>\n",
       "      <td>Jul 20, 2010</td>\n",
       "      <td>0.1</td>\n",
       "      <td>0.1</td>\n",
       "      <td>0.1</td>\n",
       "      <td>0.1</td>\n",
       "      <td>0.26K</td>\n",
       "      <td>0.00%</td>\n",
       "    </tr>\n",
       "    <tr>\n",
       "      <th>4664</th>\n",
       "      <td>Jul 19, 2010</td>\n",
       "      <td>0.1</td>\n",
       "      <td>0.1</td>\n",
       "      <td>0.1</td>\n",
       "      <td>0.1</td>\n",
       "      <td>0.57K</td>\n",
       "      <td>0.00%</td>\n",
       "    </tr>\n",
       "    <tr>\n",
       "      <th>4665</th>\n",
       "      <td>Jul 18, 2010</td>\n",
       "      <td>0.1</td>\n",
       "      <td>0.0</td>\n",
       "      <td>0.1</td>\n",
       "      <td>0.1</td>\n",
       "      <td>0.08K</td>\n",
       "      <td>0.00%</td>\n",
       "    </tr>\n",
       "  </tbody>\n",
       "</table>\n",
       "<p>4666 rows × 7 columns</p>\n",
       "</div>"
      ],
      "text/plain": [
       "              Date     Price      Open      High       Low     Vol. Change %\n",
       "0     Apr 26, 2023  29,723.2  28,298.8  29,995.7  28,258.5  119.37K    5.03%\n",
       "1     Apr 25, 2023  28,298.8  27,510.1  28,375.6  27,201.1   65.31K    2.87%\n",
       "2     Apr 24, 2023  27,509.3  27,591.4  27,978.8  27,054.3   66.74K   -0.30%\n",
       "3     Apr 23, 2023  27,591.4  27,813.8  27,815.0  27,388.5   41.77K   -0.80%\n",
       "4     Apr 22, 2023  27,813.9  27,264.8  27,872.0  27,165.7   44.30K    2.01%\n",
       "...            ...       ...       ...       ...       ...      ...      ...\n",
       "4661  Jul 22, 2010       0.1       0.1       0.1       0.1    2.16K    0.00%\n",
       "4662  Jul 21, 2010       0.1       0.1       0.1       0.1    0.58K    0.00%\n",
       "4663  Jul 20, 2010       0.1       0.1       0.1       0.1    0.26K    0.00%\n",
       "4664  Jul 19, 2010       0.1       0.1       0.1       0.1    0.57K    0.00%\n",
       "4665  Jul 18, 2010       0.1       0.0       0.1       0.1    0.08K    0.00%\n",
       "\n",
       "[4666 rows x 7 columns]"
      ]
     },
     "execution_count": 4,
     "metadata": {},
     "output_type": "execute_result"
    }
   ],
   "source": [
    "# read data\n",
    "coint = pd.read_csv('26-april.csv')\n",
    "coint"
   ]
  },
  {
   "cell_type": "code",
   "execution_count": 5,
   "metadata": {},
   "outputs": [
    {
     "data": {
      "text/html": [
       "<div>\n",
       "<style scoped>\n",
       "    .dataframe tbody tr th:only-of-type {\n",
       "        vertical-align: middle;\n",
       "    }\n",
       "\n",
       "    .dataframe tbody tr th {\n",
       "        vertical-align: top;\n",
       "    }\n",
       "\n",
       "    .dataframe thead th {\n",
       "        text-align: right;\n",
       "    }\n",
       "</style>\n",
       "<table border=\"1\" class=\"dataframe\">\n",
       "  <thead>\n",
       "    <tr style=\"text-align: right;\">\n",
       "      <th></th>\n",
       "      <th>date</th>\n",
       "      <th>price</th>\n",
       "    </tr>\n",
       "  </thead>\n",
       "  <tbody>\n",
       "    <tr>\n",
       "      <th>0</th>\n",
       "      <td>Apr 26, 2023</td>\n",
       "      <td>29,723.2</td>\n",
       "    </tr>\n",
       "    <tr>\n",
       "      <th>1</th>\n",
       "      <td>Apr 25, 2023</td>\n",
       "      <td>28,298.8</td>\n",
       "    </tr>\n",
       "    <tr>\n",
       "      <th>2</th>\n",
       "      <td>Apr 24, 2023</td>\n",
       "      <td>27,509.3</td>\n",
       "    </tr>\n",
       "    <tr>\n",
       "      <th>3</th>\n",
       "      <td>Apr 23, 2023</td>\n",
       "      <td>27,591.4</td>\n",
       "    </tr>\n",
       "    <tr>\n",
       "      <th>4</th>\n",
       "      <td>Apr 22, 2023</td>\n",
       "      <td>27,813.9</td>\n",
       "    </tr>\n",
       "    <tr>\n",
       "      <th>...</th>\n",
       "      <td>...</td>\n",
       "      <td>...</td>\n",
       "    </tr>\n",
       "    <tr>\n",
       "      <th>4661</th>\n",
       "      <td>Jul 22, 2010</td>\n",
       "      <td>0.1</td>\n",
       "    </tr>\n",
       "    <tr>\n",
       "      <th>4662</th>\n",
       "      <td>Jul 21, 2010</td>\n",
       "      <td>0.1</td>\n",
       "    </tr>\n",
       "    <tr>\n",
       "      <th>4663</th>\n",
       "      <td>Jul 20, 2010</td>\n",
       "      <td>0.1</td>\n",
       "    </tr>\n",
       "    <tr>\n",
       "      <th>4664</th>\n",
       "      <td>Jul 19, 2010</td>\n",
       "      <td>0.1</td>\n",
       "    </tr>\n",
       "    <tr>\n",
       "      <th>4665</th>\n",
       "      <td>Jul 18, 2010</td>\n",
       "      <td>0.1</td>\n",
       "    </tr>\n",
       "  </tbody>\n",
       "</table>\n",
       "<p>4666 rows × 2 columns</p>\n",
       "</div>"
      ],
      "text/plain": [
       "              date     price\n",
       "0     Apr 26, 2023  29,723.2\n",
       "1     Apr 25, 2023  28,298.8\n",
       "2     Apr 24, 2023  27,509.3\n",
       "3     Apr 23, 2023  27,591.4\n",
       "4     Apr 22, 2023  27,813.9\n",
       "...            ...       ...\n",
       "4661  Jul 22, 2010       0.1\n",
       "4662  Jul 21, 2010       0.1\n",
       "4663  Jul 20, 2010       0.1\n",
       "4664  Jul 19, 2010       0.1\n",
       "4665  Jul 18, 2010       0.1\n",
       "\n",
       "[4666 rows x 2 columns]"
      ]
     },
     "execution_count": 5,
     "metadata": {},
     "output_type": "execute_result"
    }
   ],
   "source": [
    "# get dates and pries atribute\n",
    "data = pd.DataFrame()\n",
    "data['date'] = coint[\"Date\"].astype(str)\n",
    "data['price'] = coint[\"Price\"]\n",
    "data"
   ]
  },
  {
   "cell_type": "code",
   "execution_count": 6,
   "metadata": {},
   "outputs": [
    {
     "data": {
      "text/html": [
       "<div>\n",
       "<style scoped>\n",
       "    .dataframe tbody tr th:only-of-type {\n",
       "        vertical-align: middle;\n",
       "    }\n",
       "\n",
       "    .dataframe tbody tr th {\n",
       "        vertical-align: top;\n",
       "    }\n",
       "\n",
       "    .dataframe thead th {\n",
       "        text-align: right;\n",
       "    }\n",
       "</style>\n",
       "<table border=\"1\" class=\"dataframe\">\n",
       "  <thead>\n",
       "    <tr style=\"text-align: right;\">\n",
       "      <th></th>\n",
       "      <th>date</th>\n",
       "      <th>price</th>\n",
       "    </tr>\n",
       "  </thead>\n",
       "  <tbody>\n",
       "    <tr>\n",
       "      <th>0</th>\n",
       "      <td>2023-04-26</td>\n",
       "      <td>29723.2</td>\n",
       "    </tr>\n",
       "    <tr>\n",
       "      <th>1</th>\n",
       "      <td>2023-04-25</td>\n",
       "      <td>28298.8</td>\n",
       "    </tr>\n",
       "    <tr>\n",
       "      <th>2</th>\n",
       "      <td>2023-04-24</td>\n",
       "      <td>27509.3</td>\n",
       "    </tr>\n",
       "    <tr>\n",
       "      <th>3</th>\n",
       "      <td>2023-04-23</td>\n",
       "      <td>27591.4</td>\n",
       "    </tr>\n",
       "    <tr>\n",
       "      <th>4</th>\n",
       "      <td>2023-04-22</td>\n",
       "      <td>27813.9</td>\n",
       "    </tr>\n",
       "    <tr>\n",
       "      <th>...</th>\n",
       "      <td>...</td>\n",
       "      <td>...</td>\n",
       "    </tr>\n",
       "    <tr>\n",
       "      <th>4661</th>\n",
       "      <td>2010-07-22</td>\n",
       "      <td>0.1</td>\n",
       "    </tr>\n",
       "    <tr>\n",
       "      <th>4662</th>\n",
       "      <td>2010-07-21</td>\n",
       "      <td>0.1</td>\n",
       "    </tr>\n",
       "    <tr>\n",
       "      <th>4663</th>\n",
       "      <td>2010-07-20</td>\n",
       "      <td>0.1</td>\n",
       "    </tr>\n",
       "    <tr>\n",
       "      <th>4664</th>\n",
       "      <td>2010-07-19</td>\n",
       "      <td>0.1</td>\n",
       "    </tr>\n",
       "    <tr>\n",
       "      <th>4665</th>\n",
       "      <td>2010-07-18</td>\n",
       "      <td>0.1</td>\n",
       "    </tr>\n",
       "  </tbody>\n",
       "</table>\n",
       "<p>4666 rows × 2 columns</p>\n",
       "</div>"
      ],
      "text/plain": [
       "           date    price\n",
       "0    2023-04-26  29723.2\n",
       "1    2023-04-25  28298.8\n",
       "2    2023-04-24  27509.3\n",
       "3    2023-04-23  27591.4\n",
       "4    2023-04-22  27813.9\n",
       "...         ...      ...\n",
       "4661 2010-07-22      0.1\n",
       "4662 2010-07-21      0.1\n",
       "4663 2010-07-20      0.1\n",
       "4664 2010-07-19      0.1\n",
       "4665 2010-07-18      0.1\n",
       "\n",
       "[4666 rows x 2 columns]"
      ]
     },
     "execution_count": 6,
     "metadata": {},
     "output_type": "execute_result"
    }
   ],
   "source": [
    "# change date string to date format and convert string price to float\n",
    "data['date']  = pd.to_datetime(data['date'])\n",
    "data['price'] = data['price'].str.replace(',', '')\n",
    "data['price'] = data['price'].astype(float)\n",
    "\n",
    "# change date string to date format and convert string price to float\n",
    "# data['date'] = pd.to_datetime(data['date'])\n",
    "# data['price'] = data['price'].replace(',', '').astype(float)\n",
    "\n",
    "data"
   ]
  },
  {
   "cell_type": "code",
   "execution_count": 7,
   "metadata": {},
   "outputs": [
    {
     "name": "stdout",
     "output_type": "stream",
     "text": [
      "<class 'pandas.core.frame.DataFrame'>\n",
      "<bound method NDFrame.head of               price\n",
      "date               \n",
      "2010-07-18      0.1\n",
      "2010-07-19      0.1\n",
      "2010-07-20      0.1\n",
      "2010-07-21      0.1\n",
      "2010-07-22      0.1\n",
      "...             ...\n",
      "2023-04-22  27813.9\n",
      "2023-04-23  27591.4\n",
      "2023-04-24  27509.3\n",
      "2023-04-25  28298.8\n",
      "2023-04-26  29723.2\n",
      "\n",
      "[4666 rows x 1 columns]>\n"
     ]
    },
    {
     "data": {
      "image/png": "[encoded data removed]",
      "text/plain": [
       "<Figure size 640x480 with 1 Axes>"
      ]
     },
     "metadata": {},
     "output_type": "display_data"
    }
   ],
   "source": [
    "# plot data\n",
    "price = data[\"price\"]\n",
    "Date1 = data[\"date\"]\n",
    "train1 = data[['date', 'price']]\n",
    "\n",
    "# setting date as index\n",
    "train2 = train1.set_index(\"date\")\n",
    "train2.sort_index(inplace=True)\n",
    "print(type(train2))\n",
    "print(train2.head)\n",
    "plot.plot(train2)\n",
    "plot.xlabel('Date', fontsize=12)\n",
    "plot.ylabel('Price (USD)', fontsize=12)\n",
    "plot.title('Bitcoin Price', fontsize=12)\n",
    "plot.show()"
   ]
  },
  {
   "cell_type": "code",
   "execution_count": 8,
   "metadata": {},
   "outputs": [],
   "source": [
    "def test_stationarity(x):\n",
    "    # determine rolling \n",
    "    rol_mean = x.rolling(window=22, center=False).mean()\n",
    "    rol_std = x.rolling(window=12, center=False).std()\n",
    "\n",
    "    #Perform Dickey Fuller test    \n",
    "    result = adfuller(x)\n",
    "    print('ADF Stastistic: %f'%result[0])\n",
    "    print('p-value: %f'%result[1])\n",
    "    pvalue=result[1]\n",
    "    for key,value in result[4].items():\n",
    "         if result[0]>value:\n",
    "            print(\"The graph is non stationery\")\n",
    "            break\n",
    "         else:\n",
    "            print(\"The graph is stationery\")\n",
    "            break;\n",
    "    print('Critical values:')\n",
    "    for key,value in result[4].items():\n",
    "        print('\\t%s: %.3f ' % (key, value))\n",
    "   \n",
    "    # plot rolling\n",
    "    plot.plot(x, color='blue', label='Original')\n",
    "    plot.plot(rol_mean, color='red', label='Rolling Mean')\n",
    "    plot.plot(rol_std, color='green', label='Rolling STD')\n",
    "\n",
    "    plot.legend(loc='best')\n",
    "    plot.title('Rolling Mean & Standard Deviation')\n",
    "    plot.show(block=False)\n",
    "    "
   ]
  },
  {
   "cell_type": "code",
   "execution_count": 9,
   "metadata": {},
   "outputs": [
    {
     "name": "stdout",
     "output_type": "stream",
     "text": [
      "ADF Stastistic: -1.505951\n",
      "p-value: 0.530566\n",
      "The graph is non stationery\n",
      "Critical values:\n",
      "\t1%: -3.432 \n",
      "\t5%: -2.862 \n",
      "\t10%: -2.567 \n"
     ]
    },
    {
     "data": {
      "image/png": "[encoded data removed]",
      "text/plain": [
       "<Figure size 640x480 with 1 Axes>"
      ]
     },
     "metadata": {},
     "output_type": "display_data"
    }
   ],
   "source": [
    "ts = train2['price']      \n",
    "test_stationarity(ts)"
   ]
  },
  {
   "cell_type": "code",
   "execution_count": 10,
   "metadata": {},
   "outputs": [
    {
     "data": {
      "image/png": "[encoded data removed]",
      "text/plain": [
       "<Figure size 640x480 with 1 Axes>"
      ]
     },
     "metadata": {},
     "output_type": "display_data"
    },
    {
     "name": "stdout",
     "output_type": "stream",
     "text": [
      "ADF Stastistic: -2.939661\n",
      "p-value: 0.040927\n",
      "The graph is non stationery\n",
      "Critical values:\n",
      "\t1%: -3.432 \n",
      "\t5%: -2.862 \n",
      "\t10%: -2.567 \n"
     ]
    },
    {
     "data": {
      "image/png": "[encoded data removed]",
      "text/plain": [
       "<Figure size 640x480 with 1 Axes>"
      ]
     },
     "metadata": {},
     "output_type": "display_data"
    }
   ],
   "source": [
    "ts_log = np.log(ts)\n",
    "plot.plot(ts_log,color=\"blue\")\n",
    "plot.show()\n",
    "\n",
    "test_stationarity(ts_log)"
   ]
  },
  {
   "cell_type": "code",
   "execution_count": 11,
   "metadata": {},
   "outputs": [
    {
     "data": {
      "image/png": "[encoded data removed]",
      "text/plain": [
       "<Figure size 640x480 with 1 Axes>"
      ]
     },
     "metadata": {},
     "output_type": "display_data"
    }
   ],
   "source": [
    "ts_log_diff = ts_log - ts_log.shift()\n",
    "plot.plot(ts_log_diff)\n",
    "plot.show()"
   ]
  },
  {
   "cell_type": "code",
   "execution_count": 12,
   "metadata": {},
   "outputs": [
    {
     "name": "stdout",
     "output_type": "stream",
     "text": [
      "ADF Stastistic: -25.907494\n",
      "p-value: 0.000000\n",
      "The graph is stationery\n",
      "Critical values:\n",
      "\t1%: -3.432 \n",
      "\t5%: -2.862 \n",
      "\t10%: -2.567 \n"
     ]
    },
    {
     "data": {
      "image/png": "[encoded data removed]",
      "text/plain": [
       "<Figure size 640x480 with 1 Axes>"
      ]
     },
     "metadata": {},
     "output_type": "display_data"
    }
   ],
   "source": [
    "ts_log_diff.dropna(inplace=True)\n",
    "test_stationarity(ts_log_diff)"
   ]
  },
  {
   "cell_type": "code",
   "execution_count": 13,
   "metadata": {},
   "outputs": [
    {
     "name": "stderr",
     "output_type": "stream",
     "text": [
      "C:\\Users\\USER\\AppData\\Roaming\\Python\\Python311\\site-packages\\statsmodels\\tsa\\base\\tsa_model.py:471: ValueWarning: No frequency information was provided, so inferred frequency D will be used.\n",
      "  self._init_dates(dates, freq)\n",
      "C:\\Users\\USER\\AppData\\Roaming\\Python\\Python311\\site-packages\\statsmodels\\tsa\\base\\tsa_model.py:471: ValueWarning: No frequency information was provided, so inferred frequency D will be used.\n",
      "  self._init_dates(dates, freq)\n",
      "C:\\Users\\USER\\AppData\\Roaming\\Python\\Python311\\site-packages\\statsmodels\\tsa\\base\\tsa_model.py:471: ValueWarning: No frequency information was provided, so inferred frequency D will be used.\n",
      "  self._init_dates(dates, freq)\n"
     ]
    },
    {
     "data": {
      "image/png": "[encoded data removed]",
      "text/plain": [
       "<Figure size 640x480 with 1 Axes>"
      ]
     },
     "metadata": {},
     "output_type": "display_data"
    }
   ],
   "source": [
    "# Define the order of the ARIMA model\n",
    "p, d, q = 2, 1, 0\n",
    "\n",
    "# Create the ARIMA model\n",
    "model = ARIMA(ts_log, order=(p, d, q))\n",
    "\n",
    "# Fit the ARIMA model\n",
    "results_ARIMA = model.fit()\n",
    "\n",
    "# Generate the fitted values and plot the results\n",
    "fitted_values = results_ARIMA.fittedvalues\n",
    "fitted_ts = fitted_values - ts_log_diff\n",
    "fitted_ts = fitted_ts.dropna()\n",
    "\n",
    "plot.plot(ts_log_diff)\n",
    "plot.plot(fitted_values, color='red')\n",
    "plot.title('RSS: %.7f'% sum(fitted_ts**2))\n",
    "plot.show()\n"
   ]
  },
  {
   "cell_type": "code",
   "execution_count": 14,
   "metadata": {},
   "outputs": [
    {
     "name": "stdout",
     "output_type": "stream",
     "text": [
      "Printing Predicted vs Expected Values...\n",
      "\n",
      "\n",
      "predicted = 19954.495503,   expected = 19262.900000,   error = 3.590298  %\n",
      "predicted = 19297.335110,   expected = 19243.200000,   error = 0.281321  %\n",
      "predicted = 19347.223578,   expected = 19309.900000,   error = 0.193287  %\n",
      "predicted = 19312.407605,   expected = 20215.800000,   error = 4.468744  %\n",
      "predicted = 20195.946983,   expected = 20200.600000,   error = 0.023034  %\n",
      "predicted = 20054.148005,   expected = 20561.100000,   error = 2.465588  %\n"
     ]
    },
    {
     "name": "stderr",
     "output_type": "stream",
     "text": [
      "C:\\Users\\USER\\AppData\\Roaming\\Python\\Python311\\site-packages\\statsmodels\\base\\model.py:604: ConvergenceWarning: Maximum Likelihood optimization failed to converge. Check mle_retvals\n",
      "  warnings.warn(\"Maximum Likelihood optimization failed to \"\n"
     ]
    },
    {
     "name": "stdout",
     "output_type": "stream",
     "text": [
      "predicted = 20560.122305,   expected = 21637.800000,   error = 4.980533  %\n",
      "predicted = 21566.763484,   expected = 21611.200000,   error = 0.205618  %\n",
      "predicted = 21436.988559,   expected = 21587.500000,   error = 0.697216  %\n",
      "predicted = 21591.939172,   expected = 20847.400000,   error = 3.571377  %\n",
      "predicted = 20857.859478,   expected = 19963.200000,   error = 4.481543  %\n",
      "predicted = 20082.175202,   expected = 19330.900000,   error = 3.886395  %\n",
      "predicted = 19470.086793,   expected = 20250.000000,   error = 3.851423  %\n",
      "predicted = 20344.991013,   expected = 20586.000000,   error = 1.170742  %\n",
      "predicted = 20431.584465,   expected = 20825.100000,   error = 1.889621  %\n"
     ]
    },
    {
     "name": "stderr",
     "output_type": "stream",
     "text": [
      "C:\\Users\\USER\\AppData\\Roaming\\Python\\Python311\\site-packages\\statsmodels\\base\\model.py:604: ConvergenceWarning: Maximum Likelihood optimization failed to converge. Check mle_retvals\n",
      "  warnings.warn(\"Maximum Likelihood optimization failed to \"\n"
     ]
    },
    {
     "name": "stdout",
     "output_type": "stream",
     "text": [
      "predicted = 20768.545500,   expected = 21209.900000,   error = 2.080889  %\n",
      "predicted = 21167.480295,   expected = 20785.600000,   error = 1.837235  %\n",
      "predicted = 20729.137805,   expected = 22525.800000,   error = 7.976019  %\n",
      "predicted = 22581.203103,   expected = 23410.200000,   error = 3.541178  %\n",
      "predicted = 23105.198230,   expected = 23215.200000,   error = 0.473835  %\n",
      "predicted = 23075.521288,   expected = 23153.000000,   error = 0.334638  %\n",
      "predicted = 23184.322968,   expected = 22675.200000,   error = 2.245285  %\n",
      "predicted = 22689.188106,   expected = 22460.400000,   error = 1.018629  %\n",
      "predicted = 22536.802988,   expected = 22582.100000,   error = 0.200588  %\n"
     ]
    },
    {
     "name": "stderr",
     "output_type": "stream",
     "text": [
      "C:\\Users\\USER\\AppData\\Roaming\\Python\\Python311\\site-packages\\statsmodels\\base\\model.py:604: ConvergenceWarning: Maximum Likelihood optimization failed to converge. Check mle_retvals\n",
      "  warnings.warn(\"Maximum Likelihood optimization failed to \"\n"
     ]
    },
    {
     "name": "stdout",
     "output_type": "stream",
     "text": [
      "predicted = 22615.114127,   expected = 21301.900000,   error = 6.164775  %\n",
      "predicted = 21295.033548,   expected = 21248.700000,   error = 0.218054  %\n",
      "predicted = 21446.846828,   expected = 22958.300000,   error = 6.583472  %\n",
      "predicted = 22951.130529,   expected = 23850.000000,   error = 3.768845  %\n",
      "predicted = 23550.498164,   expected = 23774.300000,   error = 0.941360  %\n"
     ]
    },
    {
     "name": "stderr",
     "output_type": "stream",
     "text": [
      "C:\\Users\\USER\\AppData\\Roaming\\Python\\Python311\\site-packages\\statsmodels\\base\\model.py:604: ConvergenceWarning: Maximum Likelihood optimization failed to converge. Check mle_retvals\n",
      "  warnings.warn(\"Maximum Likelihood optimization failed to \"\n"
     ]
    },
    {
     "name": "stdout",
     "output_type": "stream",
     "text": [
      "predicted = 23631.523270,   expected = 23634.200000,   error = 0.011326  %\n",
      "predicted = 23647.392778,   expected = 23303.400000,   error = 1.476148  %\n",
      "predicted = 23328.239503,   expected = 23271.200000,   error = 0.245108  %\n",
      "predicted = 23323.646425,   expected = 22988.600000,   error = 1.457446  %\n",
      "predicted = 22996.171832,   expected = 22820.800000,   error = 0.768474  %\n",
      "predicted = 22866.628384,   expected = 22612.100000,   error = 1.125629  %\n",
      "predicted = 22640.288736,   expected = 23308.200000,   error = 2.865563  %\n",
      "predicted = 23335.875826,   expected = 22944.200000,   error = 1.707080  %\n",
      "predicted = 22837.225066,   expected = 23175.300000,   error = 1.458773  %\n",
      "predicted = 23231.193406,   expected = 23816.300000,   error = 2.456749  %\n",
      "predicted = 23772.579353,   expected = 23146.700000,   error = 2.703968  %\n"
     ]
    },
    {
     "name": "stderr",
     "output_type": "stream",
     "text": [
      "C:\\Users\\USER\\AppData\\Roaming\\Python\\Python311\\site-packages\\statsmodels\\base\\model.py:604: ConvergenceWarning: Maximum Likelihood optimization failed to converge. Check mle_retvals\n",
      "  warnings.warn(\"Maximum Likelihood optimization failed to \"\n"
     ]
    },
    {
     "name": "stdout",
     "output_type": "stream",
     "text": [
      "predicted = 23052.567818,   expected = 23962.900000,   error = 3.798923  %\n",
      "predicted = 24064.043015,   expected = 23935.300000,   error = 0.537879  %\n",
      "predicted = 23804.227405,   expected = 24398.700000,   error = 2.436493  %\n",
      "predicted = 24398.894554,   expected = 24442.500000,   error = 0.178400  %\n",
      "predicted = 24367.826936,   expected = 24302.800000,   error = 0.267570  %\n",
      "predicted = 24297.153080,   expected = 24101.700000,   error = 0.810951  %\n",
      "predicted = 24125.463880,   expected = 23856.800000,   error = 1.126152  %\n",
      "predicted = 23890.505766,   expected = 23338.000000,   error = 2.367408  %\n",
      "predicted = 23380.535058,   expected = 23203.600000,   error = 0.762533  %\n",
      "predicted = 23285.924986,   expected = 20831.300000,   error = 11.783350  %\n",
      "predicted = 20870.758248,   expected = 21138.900000,   error = 1.268475  %\n",
      "predicted = 21500.640457,   expected = 21517.200000,   error = 0.076960  %\n",
      "predicted = 21463.767636,   expected = 21416.300000,   error = 0.221643  %\n",
      "predicted = 21357.063100,   expected = 21517.200000,   error = 0.744227  %\n",
      "predicted = 21532.318549,   expected = 21365.200000,   error = 0.782200  %\n",
      "predicted = 21350.665134,   expected = 21565.400000,   error = 0.995738  %\n",
      "predicted = 21587.814516,   expected = 20249.900000,   error = 6.607018  %\n",
      "predicted = 20231.655505,   expected = 20033.900000,   error = 0.987104  %\n",
      "predicted = 20236.796070,   expected = 19550.200000,   error = 3.511964  %\n",
      "predicted = 19587.806977,   expected = 20295.800000,   error = 3.488372  %\n",
      "predicted = 20367.559353,   expected = 19792.600000,   error = 2.904921  %\n",
      "predicted = 19680.154088,   expected = 20043.900000,   error = 1.814746  %\n",
      "predicted = 20121.405933,   expected = 20126.100000,   error = 0.023323  %\n",
      "predicted = 20085.165655,   expected = 19952.700000,   error = 0.663898  %\n",
      "predicted = 19941.367257,   expected = 19831.400000,   error = 0.554511  %\n",
      "predicted = 19859.715885,   expected = 19999.900000,   error = 0.700924  %\n",
      "predicted = 20017.658644,   expected = 19793.100000,   error = 1.134530  %\n",
      "predicted = 19768.496657,   expected = 18786.400000,   error = 5.227700  %\n",
      "predicted = 18826.418416,   expected = 19281.500000,   error = 2.360198  %\n",
      "predicted = 19436.904694,   expected = 19317.400000,   error = 0.618638  %\n"
     ]
    },
    {
     "name": "stderr",
     "output_type": "stream",
     "text": [
      "C:\\Users\\USER\\AppData\\Roaming\\Python\\Python311\\site-packages\\statsmodels\\base\\model.py:604: ConvergenceWarning: Maximum Likelihood optimization failed to converge. Check mle_retvals\n",
      "  warnings.warn(\"Maximum Likelihood optimization failed to \"\n"
     ]
    },
    {
     "name": "stdout",
     "output_type": "stream",
     "text": [
      "predicted = 19237.636790,   expected = 21365.200000,   error = 9.958078  %\n",
      "predicted = 21338.929755,   expected = 21650.400000,   error = 1.438635  %\n",
      "predicted = 21305.333655,   expected = 21834.900000,   error = 2.425321  %\n",
      "predicted = 21787.468940,   expected = 22395.300000,   error = 2.714101  %\n",
      "predicted = 22360.075219,   expected = 20175.500000,   error = 10.827862  %\n",
      "predicted = 20114.368037,   expected = 20222.500000,   error = 0.534711  %\n",
      "predicted = 20558.618893,   expected = 19701.700000,   error = 4.349467  %\n",
      "predicted = 19699.270331,   expected = 19802.400000,   error = 0.520794  %\n",
      "predicted = 19883.195332,   expected = 20113.500000,   error = 1.145025  %\n",
      "predicted = 20094.382707,   expected = 19418.800000,   error = 3.479014  %\n"
     ]
    },
    {
     "name": "stderr",
     "output_type": "stream",
     "text": [
      "C:\\Users\\USER\\AppData\\Roaming\\Python\\Python311\\site-packages\\statsmodels\\base\\model.py:604: ConvergenceWarning: Maximum Likelihood optimization failed to converge. Check mle_retvals\n",
      "  warnings.warn(\"Maximum Likelihood optimization failed to \"\n"
     ]
    },
    {
     "name": "stdout",
     "output_type": "stream",
     "text": [
      "predicted = 19377.450052,   expected = 19538.900000,   error = 0.826300  %\n",
      "predicted = 19646.512073,   expected = 18872.400000,   error = 4.101821  %\n"
     ]
    },
    {
     "name": "stderr",
     "output_type": "stream",
     "text": [
      "C:\\Users\\USER\\AppData\\Roaming\\Python\\Python311\\site-packages\\statsmodels\\base\\model.py:604: ConvergenceWarning: Maximum Likelihood optimization failed to converge. Check mle_retvals\n",
      "  warnings.warn(\"Maximum Likelihood optimization failed to \"\n"
     ]
    },
    {
     "name": "stdout",
     "output_type": "stream",
     "text": [
      "predicted = 18860.205883,   expected = 18489.000000,   error = 2.007712  %\n",
      "predicted = 18594.141331,   expected = 19404.000000,   error = 4.173669  %\n",
      "predicted = 19458.132790,   expected = 19293.500000,   error = 0.853307  %\n",
      "predicted = 19147.930019,   expected = 18925.200000,   error = 1.176897  %\n",
      "predicted = 18945.727066,   expected = 18803.200000,   error = 0.757994  %\n",
      "predicted = 18861.677157,   expected = 19225.700000,   error = 1.893418  %\n",
      "predicted = 19241.311826,   expected = 19081.000000,   error = 0.840165  %\n",
      "predicted = 19015.502846,   expected = 19411.000000,   error = 2.037490  %\n",
      "predicted = 19431.020876,   expected = 19593.000000,   error = 0.826719  %\n",
      "predicted = 19538.288228,   expected = 19423.000000,   error = 0.593566  %\n"
     ]
    },
    {
     "name": "stderr",
     "output_type": "stream",
     "text": [
      "C:\\Users\\USER\\AppData\\Roaming\\Python\\Python311\\site-packages\\statsmodels\\base\\model.py:604: ConvergenceWarning: Maximum Likelihood optimization failed to converge. Check mle_retvals\n",
      "  warnings.warn(\"Maximum Likelihood optimization failed to \"\n"
     ]
    },
    {
     "name": "stdout",
     "output_type": "stream",
     "text": [
      "predicted = 19395.990836,   expected = 19311.900000,   error = 0.435435  %\n"
     ]
    },
    {
     "name": "stderr",
     "output_type": "stream",
     "text": [
      "C:\\Users\\USER\\AppData\\Roaming\\Python\\Python311\\site-packages\\statsmodels\\base\\model.py:604: ConvergenceWarning: Maximum Likelihood optimization failed to converge. Check mle_retvals\n",
      "  warnings.warn(\"Maximum Likelihood optimization failed to \"\n"
     ]
    },
    {
     "name": "stdout",
     "output_type": "stream",
     "text": [
      "predicted = 19339.547811,   expected = 19052.200000,   error = 1.508213  %\n",
      "predicted = 19071.909211,   expected = 19628.300000,   error = 2.834636  %\n",
      "predicted = 19664.767933,   expected = 20340.200000,   error = 3.320676  %\n",
      "predicted = 20237.914851,   expected = 20157.500000,   error = 0.398933  %\n",
      "predicted = 20046.073966,   expected = 19956.700000,   error = 0.447839  %\n",
      "predicted = 19987.053333,   expected = 19531.300000,   error = 2.333451  %\n",
      "predicted = 19566.181277,   expected = 19415.000000,   error = 0.778683  %\n",
      "predicted = 19482.288999,   expected = 19441.000000,   error = 0.212381  %\n",
      "predicted = 19459.104953,   expected = 19134.600000,   error = 1.695907  %\n",
      "predicted = 19133.413260,   expected = 19059.100000,   error = 0.389910  %\n",
      "predicted = 19107.696317,   expected = 19154.800000,   error = 0.245911  %\n",
      "predicted = 19165.863752,   expected = 19379.800000,   error = 1.103914  %\n",
      "predicted = 19362.348034,   expected = 19181.800000,   error = 0.941247  %\n",
      "predicted = 19148.296137,   expected = 19068.700000,   error = 0.417418  %\n",
      "predicted = 19100.721210,   expected = 19261.900000,   error = 0.836775  %\n",
      "predicted = 19278.075571,   expected = 19548.200000,   error = 1.381838  %\n",
      "predicted = 19514.387740,   expected = 19328.200000,   error = 0.963296  %\n",
      "predicted = 19285.252179,   expected = 19123.900000,   error = 0.843720  %\n",
      "predicted = 19160.040440,   expected = 19042.900000,   error = 0.615140  %\n",
      "predicted = 19075.657176,   expected = 19162.600000,   error = 0.453711  %\n",
      "predicted = 19174.325707,   expected = 19204.800000,   error = 0.158681  %\n",
      "predicted = 19185.400336,   expected = 19571.200000,   error = 1.971262  %\n"
     ]
    },
    {
     "name": "stderr",
     "output_type": "stream",
     "text": [
      "C:\\Users\\USER\\AppData\\Roaming\\Python\\Python311\\site-packages\\statsmodels\\base\\model.py:604: ConvergenceWarning: Maximum Likelihood optimization failed to converge. Check mle_retvals\n",
      "  warnings.warn(\"Maximum Likelihood optimization failed to \"\n"
     ]
    },
    {
     "name": "stdout",
     "output_type": "stream",
     "text": [
      "predicted = 19560.926945,   expected = 19331.500000,   error = 1.186804  %\n",
      "predicted = 19276.101236,   expected = 20082.700000,   error = 4.016386  %\n",
      "predicted = 20114.592372,   expected = 20769.500000,   error = 3.153218  %\n"
     ]
    },
    {
     "name": "stderr",
     "output_type": "stream",
     "text": [
      "C:\\Users\\USER\\AppData\\Roaming\\Python\\Python311\\site-packages\\statsmodels\\base\\model.py:604: ConvergenceWarning: Maximum Likelihood optimization failed to converge. Check mle_retvals\n",
      "  warnings.warn(\"Maximum Likelihood optimization failed to \"\n"
     ]
    },
    {
     "name": "stdout",
     "output_type": "stream",
     "text": [
      "predicted = 20638.299900,   expected = 20292.900000,   error = 1.702073  %\n",
      "predicted = 20189.773230,   expected = 20594.400000,   error = 1.964742  %\n",
      "predicted = 20667.187184,   expected = 20809.800000,   error = 0.685316  %\n",
      "predicted = 20759.339951,   expected = 20626.300000,   error = 0.645002  %\n"
     ]
    },
    {
     "name": "stderr",
     "output_type": "stream",
     "text": [
      "C:\\Users\\USER\\AppData\\Roaming\\Python\\Python311\\site-packages\\statsmodels\\base\\model.py:604: ConvergenceWarning: Maximum Likelihood optimization failed to converge. Check mle_retvals\n",
      "  warnings.warn(\"Maximum Likelihood optimization failed to \"\n"
     ]
    },
    {
     "name": "stdout",
     "output_type": "stream",
     "text": [
      "predicted = 20594.142008,   expected = 20496.300000,   error = 0.477364  %\n",
      "predicted = 20526.221471,   expected = 20483.500000,   error = 0.208565  %\n",
      "predicted = 20504.090456,   expected = 20154.400000,   error = 1.735058  %\n",
      "predicted = 20159.463470,   expected = 20206.400000,   error = 0.232285  %\n",
      "predicted = 20257.676657,   expected = 21145.900000,   error = 4.200452  %\n",
      "predicted = 21128.252005,   expected = 21301.600000,   error = 0.813779  %\n",
      "predicted = 21147.723917,   expected = 20916.300000,   error = 1.106429  %\n"
     ]
    },
    {
     "name": "stderr",
     "output_type": "stream",
     "text": [
      "C:\\Users\\USER\\AppData\\Roaming\\Python\\Python311\\site-packages\\statsmodels\\base\\model.py:604: ConvergenceWarning: Maximum Likelihood optimization failed to converge. Check mle_retvals\n",
      "  warnings.warn(\"Maximum Likelihood optimization failed to \"\n"
     ]
    },
    {
     "name": "stdout",
     "output_type": "stream",
     "text": [
      "predicted = 20895.648019,   expected = 20589.000000,   error = 1.489378  %\n"
     ]
    },
    {
     "name": "stderr",
     "output_type": "stream",
     "text": [
      "C:\\Users\\USER\\AppData\\Roaming\\Python\\Python311\\site-packages\\statsmodels\\base\\model.py:604: ConvergenceWarning: Maximum Likelihood optimization failed to converge. Check mle_retvals\n",
      "  warnings.warn(\"Maximum Likelihood optimization failed to \"\n"
     ]
    },
    {
     "name": "stdout",
     "output_type": "stream",
     "text": [
      "predicted = 20651.536988,   expected = 18527.400000,   error = 11.464841  %\n",
      "predicted = 18591.819115,   expected = 15886.900000,   error = 17.026098  %\n",
      "predicted = 16174.448097,   expected = 17589.100000,   error = 8.042776  %\n",
      "predicted = 18005.732815,   expected = 17049.900000,   error = 5.606090  %\n",
      "predicted = 16783.099937,   expected = 16795.200000,   error = 0.072045  %\n",
      "predicted = 16880.315916,   expected = 16324.500000,   error = 3.404796  %\n",
      "predicted = 16367.663773,   expected = 16613.700000,   error = 1.480924  %\n",
      "predicted = 16685.629911,   expected = 16895.100000,   error = 1.239827  %\n",
      "predicted = 16845.696781,   expected = 16540.500000,   error = 1.845148  %\n",
      "predicted = 16500.000722,   expected = 16691.200000,   error = 1.145509  %\n"
     ]
    },
    {
     "name": "stderr",
     "output_type": "stream",
     "text": [
      "C:\\Users\\USER\\AppData\\Roaming\\Python\\Python311\\site-packages\\statsmodels\\base\\model.py:604: ConvergenceWarning: Maximum Likelihood optimization failed to converge. Check mle_retvals\n",
      "  warnings.warn(\"Maximum Likelihood optimization failed to \"\n"
     ]
    },
    {
     "name": "stdout",
     "output_type": "stream",
     "text": [
      "predicted = 16745.735772,   expected = 16638.300000,   error = 0.645714  %\n",
      "predicted = 16615.000903,   expected = 16699.200000,   error = 0.504210  %\n",
      "predicted = 16706.992522,   expected = 16286.700000,   error = 2.580587  %\n",
      "predicted = 16281.145241,   expected = 15776.200000,   error = 3.200677  %\n",
      "predicted = 15843.313803,   expected = 16212.900000,   error = 2.279581  %\n",
      "predicted = 16290.409229,   expected = 16623.900000,   error = 2.006092  %\n"
     ]
    },
    {
     "name": "stderr",
     "output_type": "stream",
     "text": [
      "C:\\Users\\USER\\AppData\\Roaming\\Python\\Python311\\site-packages\\statsmodels\\base\\model.py:604: ConvergenceWarning: Maximum Likelihood optimization failed to converge. Check mle_retvals\n",
      "  warnings.warn(\"Maximum Likelihood optimization failed to \"\n"
     ]
    },
    {
     "name": "stdout",
     "output_type": "stream",
     "text": [
      "predicted = 16548.513647,   expected = 16601.200000,   error = 0.317365  %\n",
      "predicted = 16535.936489,   expected = 16512.300000,   error = 0.143145  %\n",
      "predicted = 16516.693426,   expected = 16456.500000,   error = 0.365773  %\n",
      "predicted = 16470.977114,   expected = 16425.600000,   error = 0.276258  %\n",
      "predicted = 16434.668852,   expected = 16211.700000,   error = 1.375358  %\n",
      "predicted = 16218.502370,   expected = 16440.400000,   error = 1.349709  %\n",
      "predicted = 16472.288403,   expected = 17163.900000,   error = 4.029455  %\n",
      "predicted = 17119.085618,   expected = 16972.000000,   error = 0.866637  %\n",
      "predicted = 16858.760028,   expected = 17093.600000,   error = 1.373847  %\n",
      "predicted = 17122.819664,   expected = 16884.500000,   error = 1.411470  %\n",
      "predicted = 16867.430908,   expected = 17112.600000,   error = 1.432682  %\n",
      "predicted = 17143.717389,   expected = 16966.500000,   error = 1.044514  %\n",
      "predicted = 16931.966961,   expected = 17089.300000,   error = 0.920652  %\n",
      "predicted = 17111.281857,   expected = 16835.200000,   error = 1.639908  %\n",
      "predicted = 16818.420103,   expected = 17225.700000,   error = 2.364374  %\n",
      "predicted = 17262.739524,   expected = 17125.700000,   error = 0.800198  %\n",
      "predicted = 17064.778004,   expected = 17127.200000,   error = 0.364461  %\n",
      "predicted = 17142.929001,   expected = 17093.300000,   error = 0.290342  %\n",
      "predicted = 17093.383480,   expected = 17210.400000,   error = 0.679917  %\n",
      "predicted = 17214.672002,   expected = 17778.600000,   error = 3.171948  %\n",
      "predicted = 17754.017039,   expected = 17796.400000,   error = 0.238155  %\n",
      "predicted = 17705.245597,   expected = 17356.100000,   error = 2.011659  %\n",
      "predicted = 17357.457495,   expected = 16629.600000,   error = 4.376879  %\n",
      "predicted = 16702.178445,   expected = 16777.100000,   error = 0.446570  %\n",
      "predicted = 16889.322731,   expected = 16741.100000,   error = 0.885382  %\n",
      "predicted = 16718.120715,   expected = 16441.300000,   error = 1.683691  %\n",
      "predicted = 16449.663713,   expected = 16902.800000,   error = 2.680836  %\n",
      "predicted = 16946.665156,   expected = 16831.800000,   error = 0.682429  %\n",
      "predicted = 16759.082001,   expected = 16820.600000,   error = 0.365730  %\n",
      "predicted = 16831.884022,   expected = 16779.100000,   error = 0.314582  %\n",
      "predicted = 16781.253253,   expected = 16837.200000,   error = 0.332281  %\n",
      "predicted = 16843.217276,   expected = 16831.800000,   error = 0.067832  %\n",
      "predicted = 16822.670652,   expected = 16918.100000,   error = 0.564067  %\n",
      "predicted = 16918.141516,   expected = 16706.100000,   error = 1.269246  %\n",
      "predicted = 16694.604911,   expected = 16546.200000,   error = 0.896912  %\n",
      "predicted = 16580.665261,   expected = 16636.400000,   error = 0.335017  %\n",
      "predicted = 16660.818936,   expected = 16607.200000,   error = 0.322866  %\n",
      "predicted = 16593.230819,   expected = 16537.400000,   error = 0.337603  %\n",
      "predicted = 16542.642151,   expected = 16618.400000,   error = 0.455867  %\n",
      "predicted = 16628.685510,   expected = 16674.300000,   error = 0.273562  %\n",
      "predicted = 16660.919238,   expected = 16674.200000,   error = 0.079649  %\n",
      "predicted = 16665.365761,   expected = 16852.100000,   error = 1.108077  %\n",
      "predicted = 16850.431412,   expected = 16829.800000,   error = 0.122589  %\n",
      "predicted = 16801.843497,   expected = 16950.900000,   error = 0.879343  %\n",
      "predicted = 16953.297678,   expected = 16943.600000,   error = 0.057235  %\n"
     ]
    },
    {
     "name": "stderr",
     "output_type": "stream",
     "text": [
      "C:\\Users\\USER\\AppData\\Roaming\\Python\\Python311\\site-packages\\statsmodels\\base\\model.py:604: ConvergenceWarning: Maximum Likelihood optimization failed to converge. Check mle_retvals\n",
      "  warnings.warn(\"Maximum Likelihood optimization failed to \"\n"
     ]
    },
    {
     "name": "stdout",
     "output_type": "stream",
     "text": [
      "predicted = 16924.506714,   expected = 17119.000000,   error = 1.136125  %\n",
      "predicted = 17118.502769,   expected = 17180.100000,   error = 0.358538  %\n",
      "predicted = 17151.623449,   expected = 17439.100000,   error = 1.648460  %\n",
      "predicted = 17426.842291,   expected = 17942.300000,   error = 2.872863  %\n",
      "predicted = 17895.202132,   expected = 18851.300000,   error = 5.071787  %\n",
      "predicted = 18758.255527,   expected = 19927.000000,   error = 5.865130  %\n",
      "predicted = 19762.294320,   expected = 20958.200000,   error = 5.706147  %\n"
     ]
    },
    {
     "name": "stderr",
     "output_type": "stream",
     "text": [
      "C:\\Users\\USER\\AppData\\Roaming\\Python\\Python311\\site-packages\\statsmodels\\base\\model.py:604: ConvergenceWarning: Maximum Likelihood optimization failed to converge. Check mle_retvals\n",
      "  warnings.warn(\"Maximum Likelihood optimization failed to \"\n"
     ]
    },
    {
     "name": "stdout",
     "output_type": "stream",
     "text": [
      "predicted = 20766.404846,   expected = 20879.800000,   error = 0.543085  %\n",
      "predicted = 20715.237940,   expected = 21184.200000,   error = 2.213735  %\n",
      "predicted = 21193.953778,   expected = 21137.100000,   error = 0.268976  %\n",
      "predicted = 21089.413244,   expected = 20670.600000,   error = 2.026130  %\n",
      "predicted = 20681.980999,   expected = 21081.200000,   error = 1.893720  %\n",
      "predicted = 21151.668529,   expected = 22677.200000,   error = 6.727160  %\n",
      "predicted = 22592.345924,   expected = 22775.700000,   error = 0.805043  %\n",
      "predicted = 22514.507198,   expected = 22707.800000,   error = 0.851218  %\n",
      "predicted = 22692.906638,   expected = 22915.500000,   error = 0.971366  %\n",
      "predicted = 22924.424473,   expected = 22632.500000,   error = 1.289846  %\n",
      "predicted = 22602.565374,   expected = 23055.100000,   error = 1.962840  %\n"
     ]
    },
    {
     "name": "stderr",
     "output_type": "stream",
     "text": [
      "C:\\Users\\USER\\AppData\\Roaming\\Python\\Python311\\site-packages\\statsmodels\\base\\model.py:604: ConvergenceWarning: Maximum Likelihood optimization failed to converge. Check mle_retvals\n",
      "  warnings.warn(\"Maximum Likelihood optimization failed to \"\n"
     ]
    },
    {
     "name": "stdout",
     "output_type": "stream",
     "text": [
      "predicted = 23096.458424,   expected = 23016.000000,   error = 0.349576  %\n",
      "predicted = 22949.392300,   expected = 23074.600000,   error = 0.542621  %\n",
      "predicted = 23080.245848,   expected = 23027.900000,   error = 0.227315  %\n",
      "predicted = 23019.096307,   expected = 23753.100000,   error = 3.090139  %\n",
      "predicted = 23754.118733,   expected = 22832.200000,   error = 4.037801  %\n",
      "predicted = 22729.059882,   expected = 23125.100000,   error = 1.712599  %\n",
      "predicted = 23266.831696,   expected = 23725.600000,   error = 1.933643  %\n",
      "predicted = 23672.564460,   expected = 23427.600000,   error = 1.045623  %\n",
      "predicted = 23335.866795,   expected = 23431.200000,   error = 0.406864  %\n",
      "predicted = 23477.852605,   expected = 23323.800000,   error = 0.660495  %\n",
      "predicted = 23324.201368,   expected = 22936.000000,   error = 1.692542  %\n",
      "predicted = 22956.065871,   expected = 22761.800000,   error = 0.853473  %\n",
      "predicted = 22823.541208,   expected = 23251.700000,   error = 1.841409  %\n",
      "predicted = 23275.169202,   expected = 22964.600000,   error = 1.352382  %\n",
      "predicted = 22890.284305,   expected = 21792.500000,   error = 5.037441  %\n",
      "predicted = 21845.483175,   expected = 21635.000000,   error = 0.972883  %\n",
      "predicted = 21815.703046,   expected = 21859.800000,   error = 0.201726  %\n",
      "predicted = 21882.765144,   expected = 21786.800000,   error = 0.440474  %\n",
      "predicted = 21752.003375,   expected = 21772.600000,   error = 0.094599  %\n",
      "predicted = 21784.203560,   expected = 22198.500000,   error = 1.866326  %\n",
      "predicted = 22196.923586,   expected = 24327.900000,   error = 8.759393  %\n",
      "predicted = 24234.064732,   expected = 23539.600000,   error = 2.950198  %\n",
      "predicted = 23209.178172,   expected = 24573.500000,   error = 5.552005  %\n",
      "predicted = 24691.470274,   expected = 24631.400000,   error = 0.243877  %\n",
      "predicted = 24464.908943,   expected = 24302.900000,   error = 0.666624  %\n",
      "predicted = 24296.880437,   expected = 24839.500000,   error = 2.184503  %\n",
      "predicted = 24887.047545,   expected = 24450.700000,   error = 1.784601  %\n",
      "predicted = 24370.376893,   expected = 24186.600000,   error = 0.759829  %\n",
      "predicted = 24249.103679,   expected = 23936.300000,   error = 1.306817  %\n",
      "predicted = 23979.501415,   expected = 23191.500000,   error = 3.397803  %\n",
      "predicted = 23236.172757,   expected = 23166.100000,   error = 0.302480  %\n",
      "predicted = 23281.779311,   expected = 23558.700000,   error = 1.175450  %\n",
      "predicted = 23559.149228,   expected = 23494.100000,   error = 0.276875  %\n",
      "predicted = 23432.671131,   expected = 23130.500000,   error = 1.306375  %\n",
      "predicted = 23143.784854,   expected = 23642.200000,   error = 2.108159  %\n",
      "predicted = 23695.535044,   expected = 23465.400000,   error = 0.980742  %\n",
      "predicted = 23386.385940,   expected = 22354.400000,   error = 4.616478  %\n",
      "predicted = 22390.734133,   expected = 22347.100000,   error = 0.195256  %\n",
      "predicted = 22518.363297,   expected = 22428.300000,   error = 0.401561  %\n"
     ]
    },
    {
     "name": "stderr",
     "output_type": "stream",
     "text": [
      "C:\\Users\\USER\\AppData\\Roaming\\Python\\Python311\\site-packages\\statsmodels\\base\\model.py:604: ConvergenceWarning: Maximum Likelihood optimization failed to converge. Check mle_retvals\n",
      "  warnings.warn(\"Maximum Likelihood optimization failed to \"\n"
     ]
    },
    {
     "name": "stdout",
     "output_type": "stream",
     "text": [
      "predicted = 22428.709935,   expected = 22410.000000,   error = 0.083489  %\n",
      "predicted = 22397.382656,   expected = 22197.800000,   error = 0.899110  %\n",
      "predicted = 22202.579013,   expected = 21710.800000,   error = 2.265135  %\n",
      "predicted = 21747.719927,   expected = 20361.800000,   error = 6.806471  %\n"
     ]
    },
    {
     "name": "stderr",
     "output_type": "stream",
     "text": [
      "C:\\Users\\USER\\AppData\\Roaming\\Python\\Python311\\site-packages\\statsmodels\\base\\model.py:604: ConvergenceWarning: Maximum Likelihood optimization failed to converge. Check mle_retvals\n",
      "  warnings.warn(\"Maximum Likelihood optimization failed to \"\n"
     ]
    },
    {
     "name": "stdout",
     "output_type": "stream",
     "text": [
      "predicted = 20444.822754,   expected = 20156.700000,   error = 1.429414  %\n",
      "predicted = 20362.948722,   expected = 20467.500000,   error = 0.510816  %\n"
     ]
    },
    {
     "name": "stderr",
     "output_type": "stream",
     "text": [
      "C:\\Users\\USER\\AppData\\Roaming\\Python\\Python311\\site-packages\\statsmodels\\base\\model.py:604: ConvergenceWarning: Maximum Likelihood optimization failed to converge. Check mle_retvals\n",
      "  warnings.warn(\"Maximum Likelihood optimization failed to \"\n"
     ]
    },
    {
     "name": "stdout",
     "output_type": "stream",
     "text": [
      "predicted = 20497.299089,   expected = 21994.800000,   error = 6.808432  %\n",
      "predicted = 21927.810267,   expected = 24114.400000,   error = 9.067568  %\n",
      "predicted = 23824.254257,   expected = 24699.700000,   error = 3.544358  %\n",
      "predicted = 24340.346086,   expected = 24282.700000,   error = 0.237396  %\n",
      "predicted = 24194.827046,   expected = 25004.100000,   error = 3.236561  %\n",
      "predicted = 25064.888640,   expected = 27391.800000,   error = 8.494920  %\n",
      "predicted = 27245.483726,   expected = 26914.500000,   error = 1.229760  %\n",
      "predicted = 26535.307944,   expected = 27958.700000,   error = 5.091052  %\n",
      "predicted = 28026.983913,   expected = 27720.500000,   error = 1.105622  %\n",
      "predicted = 27557.410385,   expected = 28114.000000,   error = 1.979760  %\n"
     ]
    },
    {
     "name": "stderr",
     "output_type": "stream",
     "text": [
      "C:\\Users\\USER\\AppData\\Roaming\\Python\\Python311\\site-packages\\statsmodels\\base\\model.py:604: ConvergenceWarning: Maximum Likelihood optimization failed to converge. Check mle_retvals\n",
      "  warnings.warn(\"Maximum Likelihood optimization failed to \"\n"
     ]
    },
    {
     "name": "stdout",
     "output_type": "stream",
     "text": [
      "predicted = 28148.421534,   expected = 27261.700000,   error = 3.252627  %\n",
      "predicted = 27208.560183,   expected = 28310.700000,   error = 3.893015  %\n",
      "predicted = 28438.578427,   expected = 27462.200000,   error = 3.555354  %\n",
      "predicted = 27307.250871,   expected = 27475.600000,   error = 0.612722  %\n",
      "predicted = 27606.858248,   expected = 27973.500000,   error = 1.310675  %\n",
      "predicted = 27967.047423,   expected = 27129.800000,   error = 3.086080  %\n"
     ]
    },
    {
     "name": "stderr",
     "output_type": "stream",
     "text": [
      "C:\\Users\\USER\\AppData\\Roaming\\Python\\Python311\\site-packages\\statsmodels\\base\\model.py:604: ConvergenceWarning: Maximum Likelihood optimization failed to converge. Check mle_retvals\n",
      "  warnings.warn(\"Maximum Likelihood optimization failed to \"\n"
     ]
    },
    {
     "name": "stdout",
     "output_type": "stream",
     "text": [
      "predicted = 27060.657755,   expected = 27262.200000,   error = 0.739274  %\n",
      "predicted = 27392.255689,   expected = 28350.400000,   error = 3.379650  %\n"
     ]
    },
    {
     "name": "stderr",
     "output_type": "stream",
     "text": [
      "C:\\Users\\USER\\AppData\\Roaming\\Python\\Python311\\site-packages\\statsmodels\\base\\model.py:604: ConvergenceWarning: Maximum Likelihood optimization failed to converge. Check mle_retvals\n",
      "  warnings.warn(\"Maximum Likelihood optimization failed to \"\n"
     ]
    },
    {
     "name": "stdout",
     "output_type": "stream",
     "text": [
      "predicted = 28319.206433,   expected = 28029.500000,   error = 1.033577  %\n",
      "predicted = 27860.708458,   expected = 28473.700000,   error = 2.152834  %\n",
      "predicted = 28520.684573,   expected = 28456.100000,   error = 0.226962  %\n",
      "predicted = 28386.187849,   expected = 28198.300000,   error = 0.666309  %\n",
      "predicted = 28203.255571,   expected = 27802.100000,   error = 1.442897  %\n",
      "predicted = 27845.208060,   expected = 28164.400000,   error = 1.133317  %\n",
      "predicted = 28223.794157,   expected = 28173.500000,   error = 0.178516  %\n",
      "predicted = 28116.284917,   expected = 28036.700000,   error = 0.283860  %\n",
      "predicted = 28036.461529,   expected = 27910.400000,   error = 0.451665  %\n",
      "predicted = 27932.801534,   expected = 27941.200000,   error = 0.030058  %\n",
      "predicted = 27960.720819,   expected = 28326.600000,   error = 1.291645  %\n",
      "predicted = 28318.342947,   expected = 29641.000000,   error = 4.462255  %\n",
      "predicted = 29565.833044,   expected = 30209.600000,   error = 2.131001  %\n",
      "predicted = 29990.649958,   expected = 29886.400000,   error = 0.348821  %\n"
     ]
    },
    {
     "name": "stderr",
     "output_type": "stream",
     "text": [
      "C:\\Users\\USER\\AppData\\Roaming\\Python\\Python311\\site-packages\\statsmodels\\base\\model.py:604: ConvergenceWarning: Maximum Likelihood optimization failed to converge. Check mle_retvals\n",
      "  warnings.warn(\"Maximum Likelihood optimization failed to \"\n"
     ]
    },
    {
     "name": "stdout",
     "output_type": "stream",
     "text": [
      "predicted = 29800.242561,   expected = 30387.400000,   error = 1.932240  %\n",
      "predicted = 30434.340236,   expected = 30472.500000,   error = 0.125227  %\n",
      "predicted = 30392.454467,   expected = 30299.600000,   error = 0.306454  %\n",
      "predicted = 30287.798043,   expected = 30310.300000,   error = 0.074239  %\n",
      "predicted = 30337.258949,   expected = 29434.900000,   error = 3.065609  %\n",
      "predicted = 29440.677748,   expected = 30382.200000,   error = 3.098927  %\n",
      "predicted = 30513.756726,   expected = 28813.700000,   error = 5.900168  %\n",
      "predicted = 28684.330880,   expected = 28240.500000,   error = 1.571611  %\n",
      "predicted = 28481.017804,   expected = 27264.800000,   error = 4.460762  %\n"
     ]
    },
    {
     "name": "stderr",
     "output_type": "stream",
     "text": [
      "C:\\Users\\USER\\AppData\\Roaming\\Python\\Python311\\site-packages\\statsmodels\\base\\model.py:604: ConvergenceWarning: Maximum Likelihood optimization failed to converge. Check mle_retvals\n",
      "  warnings.warn(\"Maximum Likelihood optimization failed to \"\n"
     ]
    },
    {
     "name": "stdout",
     "output_type": "stream",
     "text": [
      "predicted = 27359.026694,   expected = 27813.900000,   error = 1.635417  %\n",
      "predicted = 27962.629838,   expected = 27591.400000,   error = 1.345455  %\n",
      "predicted = 27507.315352,   expected = 27509.300000,   error = 0.007214  %\n",
      "predicted = 27544.628503,   expected = 28298.800000,   error = 2.665030  %\n",
      "predicted = 28305.046959,   expected = 29723.200000,   error = 4.771199  %\n"
     ]
    },
    {
     "name": "stderr",
     "output_type": "stream",
     "text": [
      "C:\\Users\\USER\\AppData\\Roaming\\Python\\Python311\\site-packages\\statsmodels\\base\\model.py:604: ConvergenceWarning: Maximum Likelihood optimization failed to converge. Check mle_retvals\n",
      "  warnings.warn(\"Maximum Likelihood optimization failed to \"\n"
     ]
    }
   ],
   "source": [
    "size = int(len(ts_log)-300)\n",
    "# Divide into train and test\n",
    "train_arima, test_arima = ts_log[0:size], ts_log[size:len(ts_log)]\n",
    "history = [x for x in train_arima]\n",
    "predictions = list()\n",
    "originals = list()\n",
    "error_list = list()\n",
    "\n",
    "print('Printing Predicted vs Expected Values...')\n",
    "print('\\n')\n",
    "# We go over each value in the test set and then apply ARIMA model and calculate the predicted value. We have the expected value in the test set therefore we calculate the error between predicted and expected value \n",
    "for t in range(len(test_arima)):\n",
    "    model = ARIMA(history, order=(2, 1, 0))\n",
    "    model_fit = model.fit()\n",
    "    \n",
    "    output = model_fit.forecast()\n",
    "    \n",
    "    pred_value = output[0]\n",
    "    \n",
    "        \n",
    "    original_value = test_arima[t]\n",
    "    history.append(original_value)\n",
    "    \n",
    "    pred_value = np.exp(pred_value)\n",
    "    \n",
    "    \n",
    "    original_value = np.exp(original_value)\n",
    "    \n",
    "    # Calculating the error\n",
    "    error = ((abs(pred_value - original_value)) / original_value) * 100\n",
    "    error_list.append(error)\n",
    "    print('predicted = %f,   expected = %f,   error = %f ' % (pred_value, original_value, error), '%')\n",
    "    \n",
    "    predictions.append(float(pred_value))\n",
    "    originals.append(float(original_value))\n",
    "    \n"
   ]
  },
  {
   "cell_type": "code",
   "execution_count": 15,
   "metadata": {},
   "outputs": [
    {
     "name": "stdout",
     "output_type": "stream",
     "text": [
      "\n",
      " Mean Error in Predicting Test Case Articles : 1.966890  %\n"
     ]
    },
    {
     "data": {
      "image/png": "[encoded data removed]",
      "text/plain": [
       "<Figure size 800x600 with 1 Axes>"
      ]
     },
     "metadata": {},
     "output_type": "display_data"
    }
   ],
   "source": [
    "# After iterating over whole test set the overall mean error is calculated.   \n",
    "print('\\n Mean Error in Predicting Test Case Articles : %f ' % (sum(error_list)/float(len(error_list))), '%')\n",
    "plot.figure(figsize=(8, 6))\n",
    "test_day = [t for t in range(len(test_arima))]\n",
    "labels={'Orginal','Predicted'}\n",
    "plot.plot(test_day, predictions, color= 'green')\n",
    "plot.plot(test_day, originals, color = 'orange')\n",
    "plot.title('Expected Vs Predicted Views Forecasting')\n",
    "plot.xlabel('Day')\n",
    "plot.ylabel('Closing Price')\n",
    "plot.legend(labels)\n",
    "plot.show()"
   ]
  },
  {
   "cell_type": "code",
   "execution_count": 16,
   "metadata": {},
   "outputs": [],
   "source": [
    "# save the model to a file\n",
    "model_fit.save('arima_model.pkl')"
   ]
  },
  {
   "cell_type": "code",
   "execution_count": 17,
   "metadata": {},
   "outputs": [
    {
     "data": {
      "application/vnd.plotly.v1+json": {
       "config": {
        "plotlyServerURL": "https://plot.ly"
       },
       "data": [
        {
         "mode": "lines",
         "name": "Forecast",
         "type": "scatter",
         "x": [
          "2023-04-27T00:00:00",
          "2023-04-28T00:00:00",
          "2023-04-29T00:00:00",
          "2023-04-30T00:00:00"
         ],
         "y": [
          28305.04695888285,
          28179.864384330456,
          28179.97587844347,
          28199.539634247132
         ]
        }
       ],
       "layout": {
        "template": {
         "data": {
          "bar": [
           {
            "error_x": {
             "color": "#2a3f5f"
            },
            "error_y": {
             "color": "#2a3f5f"
            },
            "marker": {
             "line": {
              "color": "#E5ECF6",
              "width": 0.5
             },
             "pattern": {
              "fillmode": "overlay",
              "size": 10,
              "solidity": 0.2
             }
            },
            "type": "bar"
           }
          ],
          "barpolar": [
           {
            "marker": {
             "line": {
              "color": "#E5ECF6",
              "width": 0.5
             },
             "pattern": {
              "fillmode": "overlay",
              "size": 10,
              "solidity": 0.2
             }
            },
            "type": "barpolar"
           }
          ],
          "carpet": [
           {
            "aaxis": {
             "endlinecolor": "#2a3f5f",
             "gridcolor": "white",
             "linecolor": "white",
             "minorgridcolor": "white",
             "startlinecolor": "#2a3f5f"
            },
            "baxis": {
             "endlinecolor": "#2a3f5f",
             "gridcolor": "white",
             "linecolor": "white",
             "minorgridcolor": "white",
             "startlinecolor": "#2a3f5f"
            },
            "type": "carpet"
           }
          ],
          "choropleth": [
           {
            "colorbar": {
             "outlinewidth": 0,
             "ticks": ""
            },
            "type": "choropleth"
           }
          ],
          "contour": [
           {
            "colorbar": {
             "outlinewidth": 0,
             "ticks": ""
            },
            "colorscale": [
             [
              0,
              "#0d0887"
             ],
             [
              0.1111111111111111,
              "#46039f"
             ],
             [
              0.2222222222222222,
              "#7201a8"
             ],
             [
              0.3333333333333333,
              "#9c179e"
             ],
             [
              0.4444444444444444,
              "#bd3786"
             ],
             [
              0.5555555555555556,
              "#d8576b"
             ],
             [
              0.6666666666666666,
              "#ed7953"
             ],
             [
              0.7777777777777778,
              "#fb9f3a"
             ],
             [
              0.8888888888888888,
              "#fdca26"
             ],
             [
              1,
              "#f0f921"
             ]
            ],
            "type": "contour"
           }
          ],
          "contourcarpet": [
           {
            "colorbar": {
             "outlinewidth": 0,
             "ticks": ""
            },
            "type": "contourcarpet"
           }
          ],
          "heatmap": [
           {
            "colorbar": {
             "outlinewidth": 0,
             "ticks": ""
            },
            "colorscale": [
             [
              0,
              "#0d0887"
             ],
             [
              0.1111111111111111,
              "#46039f"
             ],
             [
              0.2222222222222222,
              "#7201a8"
             ],
             [
              0.3333333333333333,
              "#9c179e"
             ],
             [
              0.4444444444444444,
              "#bd3786"
             ],
             [
              0.5555555555555556,
              "#d8576b"
             ],
             [
              0.6666666666666666,
              "#ed7953"
             ],
             [
              0.7777777777777778,
              "#fb9f3a"
             ],
             [
              0.8888888888888888,
              "#fdca26"
             ],
             [
              1,
              "#f0f921"
             ]
            ],
            "type": "heatmap"
           }
          ],
          "heatmapgl": [
           {
            "colorbar": {
             "outlinewidth": 0,
             "ticks": ""
            },
            "colorscale": [
             [
              0,
              "#0d0887"
             ],
             [
              0.1111111111111111,
              "#46039f"
             ],
             [
              0.2222222222222222,
              "#7201a8"
             ],
             [
              0.3333333333333333,
              "#9c179e"
             ],
             [
              0.4444444444444444,
              "#bd3786"
             ],
             [
              0.5555555555555556,
              "#d8576b"
             ],
             [
              0.6666666666666666,
              "#ed7953"
             ],
             [
              0.7777777777777778,
              "#fb9f3a"
             ],
             [
              0.8888888888888888,
              "#fdca26"
             ],
             [
              1,
              "#f0f921"
             ]
            ],
            "type": "heatmapgl"
           }
          ],
          "histogram": [
           {
            "marker": {
             "pattern": {
              "fillmode": "overlay",
              "size": 10,
              "solidity": 0.2
             }
            },
            "type": "histogram"
           }
          ],
          "histogram2d": [
           {
            "colorbar": {
             "outlinewidth": 0,
             "ticks": ""
            },
            "colorscale": [
             [
              0,
              "#0d0887"
             ],
             [
              0.1111111111111111,
              "#46039f"
             ],
             [
              0.2222222222222222,
              "#7201a8"
             ],
             [
              0.3333333333333333,
              "#9c179e"
             ],
             [
              0.4444444444444444,
              "#bd3786"
             ],
             [
              0.5555555555555556,
              "#d8576b"
             ],
             [
              0.6666666666666666,
              "#ed7953"
             ],
             [
              0.7777777777777778,
              "#fb9f3a"
             ],
             [
              0.8888888888888888,
              "#fdca26"
             ],
             [
              1,
              "#f0f921"
             ]
            ],
            "type": "histogram2d"
           }
          ],
          "histogram2dcontour": [
           {
            "colorbar": {
             "outlinewidth": 0,
             "ticks": ""
            },
            "colorscale": [
             [
              0,
              "#0d0887"
             ],
             [
              0.1111111111111111,
              "#46039f"
             ],
             [
              0.2222222222222222,
              "#7201a8"
             ],
             [
              0.3333333333333333,
              "#9c179e"
             ],
             [
              0.4444444444444444,
              "#bd3786"
             ],
             [
              0.5555555555555556,
              "#d8576b"
             ],
             [
              0.6666666666666666,
              "#ed7953"
             ],
             [
              0.7777777777777778,
              "#fb9f3a"
             ],
             [
              0.8888888888888888,
              "#fdca26"
             ],
             [
              1,
              "#f0f921"
             ]
            ],
            "type": "histogram2dcontour"
           }
          ],
          "mesh3d": [
           {
            "colorbar": {
             "outlinewidth": 0,
             "ticks": ""
            },
            "type": "mesh3d"
           }
          ],
          "parcoords": [
           {
            "line": {
             "colorbar": {
              "outlinewidth": 0,
              "ticks": ""
             }
            },
            "type": "parcoords"
           }
          ],
          "pie": [
           {
            "automargin": true,
            "type": "pie"
           }
          ],
          "scatter": [
           {
            "fillpattern": {
             "fillmode": "overlay",
             "size": 10,
             "solidity": 0.2
            },
            "type": "scatter"
           }
          ],
          "scatter3d": [
           {
            "line": {
             "colorbar": {
              "outlinewidth": 0,
              "ticks": ""
             }
            },
            "marker": {
             "colorbar": {
              "outlinewidth": 0,
              "ticks": ""
             }
            },
            "type": "scatter3d"
           }
          ],
          "scattercarpet": [
           {
            "marker": {
             "colorbar": {
              "outlinewidth": 0,
              "ticks": ""
             }
            },
            "type": "scattercarpet"
           }
          ],
          "scattergeo": [
           {
            "marker": {
             "colorbar": {
              "outlinewidth": 0,
              "ticks": ""
             }
            },
            "type": "scattergeo"
           }
          ],
          "scattergl": [
           {
            "marker": {
             "colorbar": {
              "outlinewidth": 0,
              "ticks": ""
             }
            },
            "type": "scattergl"
           }
          ],
          "scattermapbox": [
           {
            "marker": {
             "colorbar": {
              "outlinewidth": 0,
              "ticks": ""
             }
            },
            "type": "scattermapbox"
           }
          ],
          "scatterpolar": [
           {
            "marker": {
             "colorbar": {
              "outlinewidth": 0,
              "ticks": ""
             }
            },
            "type": "scatterpolar"
           }
          ],
          "scatterpolargl": [
           {
            "marker": {
             "colorbar": {
              "outlinewidth": 0,
              "ticks": ""
             }
            },
            "type": "scatterpolargl"
           }
          ],
          "scatterternary": [
           {
            "marker": {
             "colorbar": {
              "outlinewidth": 0,
              "ticks": ""
             }
            },
            "type": "scatterternary"
           }
          ],
          "surface": [
           {
            "colorbar": {
             "outlinewidth": 0,
             "ticks": ""
            },
            "colorscale": [
             [
              0,
              "#0d0887"
             ],
             [
              0.1111111111111111,
              "#46039f"
             ],
             [
              0.2222222222222222,
              "#7201a8"
             ],
             [
              0.3333333333333333,
              "#9c179e"
             ],
             [
              0.4444444444444444,
              "#bd3786"
             ],
             [
              0.5555555555555556,
              "#d8576b"
             ],
             [
              0.6666666666666666,
              "#ed7953"
             ],
             [
              0.7777777777777778,
              "#fb9f3a"
             ],
             [
              0.8888888888888888,
              "#fdca26"
             ],
             [
              1,
              "#f0f921"
             ]
            ],
            "type": "surface"
           }
          ],
          "table": [
           {
            "cells": {
             "fill": {
              "color": "#EBF0F8"
             },
             "line": {
              "color": "white"
             }
            },
            "header": {
             "fill": {
              "color": "#C8D4E3"
             },
             "line": {
              "color": "white"
             }
            },
            "type": "table"
           }
          ]
         },
         "layout": {
          "annotationdefaults": {
           "arrowcolor": "#2a3f5f",
           "arrowhead": 0,
           "arrowwidth": 1
          },
          "autotypenumbers": "strict",
          "coloraxis": {
           "colorbar": {
            "outlinewidth": 0,
            "ticks": ""
           }
          },
          "colorscale": {
           "diverging": [
            [
             0,
             "#8e0152"
            ],
            [
             0.1,
             "#c51b7d"
            ],
            [
             0.2,
             "#de77ae"
            ],
            [
             0.3,
             "#f1b6da"
            ],
            [
             0.4,
             "#fde0ef"
            ],
            [
             0.5,
             "#f7f7f7"
            ],
            [
             0.6,
             "#e6f5d0"
            ],
            [
             0.7,
             "#b8e186"
            ],
            [
             0.8,
             "#7fbc41"
            ],
            [
             0.9,
             "#4d9221"
            ],
            [
             1,
             "#276419"
            ]
           ],
           "sequential": [
            [
             0,
             "#0d0887"
            ],
            [
             0.1111111111111111,
             "#46039f"
            ],
            [
             0.2222222222222222,
             "#7201a8"
            ],
            [
             0.3333333333333333,
             "#9c179e"
            ],
            [
             0.4444444444444444,
             "#bd3786"
            ],
            [
             0.5555555555555556,
             "#d8576b"
            ],
            [
             0.6666666666666666,
             "#ed7953"
            ],
            [
             0.7777777777777778,
             "#fb9f3a"
            ],
            [
             0.8888888888888888,
             "#fdca26"
            ],
            [
             1,
             "#f0f921"
            ]
           ],
           "sequentialminus": [
            [
             0,
             "#0d0887"
            ],
            [
             0.1111111111111111,
             "#46039f"
            ],
            [
             0.2222222222222222,
             "#7201a8"
            ],
            [
             0.3333333333333333,
             "#9c179e"
            ],
            [
             0.4444444444444444,
             "#bd3786"
            ],
            [
             0.5555555555555556,
             "#d8576b"
            ],
            [
             0.6666666666666666,
             "#ed7953"
            ],
            [
             0.7777777777777778,
             "#fb9f3a"
            ],
            [
             0.8888888888888888,
             "#fdca26"
            ],
            [
             1,
             "#f0f921"
            ]
           ]
          },
          "colorway": [
           "#636efa",
           "#EF553B",
           "#00cc96",
           "#ab63fa",
           "#FFA15A",
           "#19d3f3",
           "#FF6692",
           "#B6E880",
           "#FF97FF",
           "#FECB52"
          ],
          "font": {
           "color": "#2a3f5f"
          },
          "geo": {
           "bgcolor": "white",
           "lakecolor": "white",
           "landcolor": "#E5ECF6",
           "showlakes": true,
           "showland": true,
           "subunitcolor": "white"
          },
          "hoverlabel": {
           "align": "left"
          },
          "hovermode": "closest",
          "mapbox": {
           "style": "light"
          },
          "paper_bgcolor": "white",
          "plot_bgcolor": "#E5ECF6",
          "polar": {
           "angularaxis": {
            "gridcolor": "white",
            "linecolor": "white",
            "ticks": ""
           },
           "bgcolor": "#E5ECF6",
           "radialaxis": {
            "gridcolor": "white",
            "linecolor": "white",
            "ticks": ""
           }
          },
          "scene": {
           "xaxis": {
            "backgroundcolor": "#E5ECF6",
            "gridcolor": "white",
            "gridwidth": 2,
            "linecolor": "white",
            "showbackground": true,
            "ticks": "",
            "zerolinecolor": "white"
           },
           "yaxis": {
            "backgroundcolor": "#E5ECF6",
            "gridcolor": "white",
            "gridwidth": 2,
            "linecolor": "white",
            "showbackground": true,
            "ticks": "",
            "zerolinecolor": "white"
           },
           "zaxis": {
            "backgroundcolor": "#E5ECF6",
            "gridcolor": "white",
            "gridwidth": 2,
            "linecolor": "white",
            "showbackground": true,
            "ticks": "",
            "zerolinecolor": "white"
           }
          },
          "shapedefaults": {
           "line": {
            "color": "#2a3f5f"
           }
          },
          "ternary": {
           "aaxis": {
            "gridcolor": "white",
            "linecolor": "white",
            "ticks": ""
           },
           "baxis": {
            "gridcolor": "white",
            "linecolor": "white",
            "ticks": ""
           },
           "bgcolor": "#E5ECF6",
           "caxis": {
            "gridcolor": "white",
            "linecolor": "white",
            "ticks": ""
           }
          },
          "title": {
           "x": 0.05
          },
          "xaxis": {
           "automargin": true,
           "gridcolor": "white",
           "linecolor": "white",
           "ticks": "",
           "title": {
            "standoff": 15
           },
           "zerolinecolor": "white",
           "zerolinewidth": 2
          },
          "yaxis": {
           "automargin": true,
           "gridcolor": "white",
           "linecolor": "white",
           "ticks": "",
           "title": {
            "standoff": 15
           },
           "zerolinecolor": "white",
           "zerolinewidth": 2
          }
         }
        },
        "title": {
         "text": "Forecasted Values"
        },
        "xaxis": {
         "tickformat": "%Y-%m-%d",
         "title": {
          "text": "Date"
         }
        },
        "yaxis": {
         "title": {
          "text": "Original Scale"
         }
        }
       }
      }
     },
     "metadata": {},
     "output_type": "display_data"
    }
   ],
   "source": [
    "# Load the saved model\n",
    "loaded_model = ARIMAResults.load('arima_model.pkl')\n",
    "\n",
    "# Define the number of periods for which you want to forecast\n",
    "forecast_periods = 4\n",
    "\n",
    "# Call the forecast method to make predictions for the next 'forecast_periods' periods\n",
    "forecast = loaded_model.forecast(steps=forecast_periods)\n",
    "\n",
    "# Convert the forecasted values back to the original scale\n",
    "forecast_original_scale = np.exp(forecast)\n",
    "\n",
    "\n",
    "# Create a date range for the forecast periods\n",
    "last_date = pd.to_datetime(data['date']).max()\n",
    "date_range = pd.date_range(last_date, periods=forecast_periods+1, freq='D')[1:]\n",
    "\n",
    "# create Plotly line plot\n",
    "fig = go.Figure()\n",
    "fig.add_trace(go.Scatter(x=date_range, y=forecast_original_scale, mode='lines', name='Forecast'))\n",
    "\n",
    "fig.update_layout(title='Forecasted Values', xaxis_title='Date', yaxis_title='Original Scale')\n",
    "fig.update_xaxes(tickformat='%Y-%m-%d')\n",
    "\n",
    "fig.show()\n"
   ]
  },
  {
   "cell_type": "code",
   "execution_count": 18,
   "metadata": {},
   "outputs": [
    {
     "data": {
      "text/html": [
       "<div>\n",
       "<style scoped>\n",
       "    .dataframe tbody tr th:only-of-type {\n",
       "        vertical-align: middle;\n",
       "    }\n",
       "\n",
       "    .dataframe tbody tr th {\n",
       "        vertical-align: top;\n",
       "    }\n",
       "\n",
       "    .dataframe thead th {\n",
       "        text-align: right;\n",
       "    }\n",
       "</style>\n",
       "<table border=\"1\" class=\"dataframe\">\n",
       "  <thead>\n",
       "    <tr style=\"text-align: right;\">\n",
       "      <th></th>\n",
       "      <th>date</th>\n",
       "      <th>price</th>\n",
       "    </tr>\n",
       "  </thead>\n",
       "  <tbody>\n",
       "    <tr>\n",
       "      <th>0</th>\n",
       "      <td>2023-04-27</td>\n",
       "      <td>28305.046959</td>\n",
       "    </tr>\n",
       "    <tr>\n",
       "      <th>1</th>\n",
       "      <td>2023-04-28</td>\n",
       "      <td>28179.864384</td>\n",
       "    </tr>\n",
       "    <tr>\n",
       "      <th>2</th>\n",
       "      <td>2023-04-29</td>\n",
       "      <td>28179.975878</td>\n",
       "    </tr>\n",
       "    <tr>\n",
       "      <th>3</th>\n",
       "      <td>2023-04-30</td>\n",
       "      <td>28199.539634</td>\n",
       "    </tr>\n",
       "  </tbody>\n",
       "</table>\n",
       "</div>"
      ],
      "text/plain": [
       "        date         price\n",
       "0 2023-04-27  28305.046959\n",
       "1 2023-04-28  28179.864384\n",
       "2 2023-04-29  28179.975878\n",
       "3 2023-04-30  28199.539634"
      ]
     },
     "execution_count": 18,
     "metadata": {},
     "output_type": "execute_result"
    }
   ],
   "source": [
    "predictions = pd.DataFrame()\n",
    "predictions['date'] = date_range\n",
    "predictions['price'] = forecast_original_scale\n",
    "\n",
    "predictions"
   ]
  }
 ],
 "metadata": {
  "kernelspec": {
   "display_name": "Python 3",
   "language": "python",
   "name": "python3"
  },
  "language_info": {
   "codemirror_mode": {
    "name": "ipython",
    "version": 3
   },
   "file_extension": ".py",
   "mimetype": "text/x-python",
   "name": "python",
   "nbconvert_exporter": "python",
   "pygments_lexer": "ipython3",
   "version": "3.11.3"
  },
  "orig_nbformat": 4
 },
 "nbformat": 4,
 "nbformat_minor": 2
}
